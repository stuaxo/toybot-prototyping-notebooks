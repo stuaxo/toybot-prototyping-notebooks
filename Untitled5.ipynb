{
 "cells": [
  {
   "cell_type": "code",
   "execution_count": 16,
   "metadata": {},
   "outputs": [],
   "source": [
    "import sys\n",
    "from ast import *\n",
    "\n",
    "def dump(node, annotate_fields=True, include_attributes=False, indent='  '):\n",
    "    \"\"\"\n",
    "    Return a formatted dump of the tree in *node*.  This is mainly useful for\n",
    "    debugging purposes.  The returned string will show the names and the values\n",
    "    for fields.  This makes the code impossible to evaluate, so if evaluation is\n",
    "    wanted *annotate_fields* must be set to False.  Attributes such as line\n",
    "    numbers and column offsets are not dumped by default.  If this is wanted,\n",
    "    *include_attributes* can be set to True.\n",
    "    \"\"\"\n",
    "    def _format(node, level=0):\n",
    "        if isinstance(node, AST):\n",
    "            fields = [(a, _format(b, level)) for a, b in iter_fields(node)]\n",
    "            if include_attributes and node._attributes:\n",
    "                fields.extend([(a, _format(getattr(node, a), level))\n",
    "                               for a in node._attributes])\n",
    "            return ''.join([\n",
    "                node.__class__.__name__,\n",
    "                '(',\n",
    "                ', '.join(('%s=%s' % field for field in fields)\n",
    "                           if annotate_fields else\n",
    "                           (b for a, b in fields)),\n",
    "                ')'])\n",
    "        elif isinstance(node, list):\n",
    "            lines = ['[']\n",
    "            lines.extend((indent * (level + 2) + _format(x, level + 2) + ','\n",
    "                         for x in node))\n",
    "            if len(lines) > 1:\n",
    "                lines.append(indent * (level + 1) + ']')\n",
    "            else:\n",
    "                lines[-1] += ']'\n",
    "            return '\\n'.join(lines)\n",
    "        return repr(node)\n",
    "\n",
    "    if not isinstance(node, AST):\n",
    "        raise TypeError('expected AST, got %r' % node.__class__.__name__)\n",
    "    return _format(node)\n",
    "\n",
    "def parseprint(code, filename=\"<string>\", mode=\"exec\", type_comments=False,\n",
    "               **kwargs):\n",
    "    \"\"\"Parse some code from a string and pretty-print it.\"\"\"\n",
    "    if sys.version_info >= (3, 8):\n",
    "        node = parse(code, mode=mode, type_comments=type_comments)\n",
    "    else:\n",
    "        node = parse(code, mode=mode)   # An ode to the code\n",
    "    print(dump(node, **kwargs))\n",
    "\n",
    "# Short name: pdp = parse, dump, print\n",
    "pdp = parseprint"
   ]
  },
  {
   "cell_type": "code",
   "execution_count": 82,
   "metadata": {},
   "outputs": [
    {
     "name": "stdout",
     "output_type": "stream",
     "text": [
      "205\n"
     ]
    }
   ],
   "source": [
    "from ast import parse, NodeTransformer, fix_missing_locations\n",
    "\n",
    "class ReplaceAssignments(NodeTransformer):\n",
    "    \"\"\"\n",
    "    Redirect assignments to variables refered to in names to refer to elements in _variables.\n",
    "    \n",
    "    a=1\n",
    "    a=_variables['a']\n",
    "    \"\"\"\n",
    "    def __init__(self, names):\n",
    "        self._names = names\n",
    "        \n",
    "    def visit_Assign(self, node):\n",
    "        \"\"\"\n",
    "        \"\"\"\n",
    "        var_name = node.targets[0].id\n",
    "        if var_name in self._names and isinstance(node.value, Constant) and isinstance(node.value.value, (int, float, str)):\n",
    "            return copy_location(\n",
    "                Assign(targets=node.targets, \n",
    "                       value=Subscript(value=Name(id='_variables', ctx=Load()), \n",
    "                                       slice=Index(value=Constant(value=var_name, kind=None)), ctx=Load()), type_comment=None),\n",
    "                node)\n",
    "        return node\n",
    "    \n",
    "    #     def visit_Assign(self, node):\n",
    "    #         var_name = node.targets[0].id\n",
    "    #         if var_name in self._names and isinstance(node.value, Constant) and isinstance(node.value.value, (int, float, str)):\n",
    "    #             node.value = parse(f'_variables[\"{var_name}\"]').body[0].value\\\n",
    "    #             return node\n",
    "    #         return node\n",
    "\n",
    "src = \"\"\"\\\n",
    "a = 1\n",
    "\n",
    "print(a)\n",
    "\"\"\"\n",
    "\n",
    "\n",
    "t = ReplaceAssignments([\"a\"])\n",
    "tree = parse(src)\n",
    "tree = t.visit(tree)\n",
    "fix_missing_locations(tree) \n",
    "\n",
    "\n",
    "ns = {\"_variables\": {\"a\": 205}}\n",
    "exec(compile(tree, filename=\"<ast>\", mode=\"exec\"), ns, ns)"
   ]
  },
  {
   "cell_type": "code",
   "execution_count": 40,
   "metadata": {},
   "outputs": [
    {
     "name": "stdout",
     "output_type": "stream",
     "text": [
      "Module(body=[\n",
      "    Assign(targets=[\n",
      "        Name(id='a', ctx=Store()),\n",
      "      ], value=Subscript(value=Name(id='variables', ctx=Load()), slice=Index(value=Constant(value=1, kind=None)), ctx=Load()), type_comment=None),\n",
      "  ], type_ignores=[])\n"
     ]
    }
   ],
   "source": [
    "#a = []\n",
    "print(dump(parse('a = variables[1]')))"
   ]
  },
  {
   "cell_type": "code",
   "execution_count": 41,
   "metadata": {},
   "outputs": [
    {
     "name": "stdout",
     "output_type": "stream",
     "text": [
      "Module(\n",
      "    body=[\n",
      "        Assign(targets=[Name(id='a')],\n",
      "            value=Subscript(value=Name(id='variables'), slice=Index(value=Constant(value=1, kind=None))),\n",
      "            type_comment=None)],\n",
      "    type_ignores=[])\n"
     ]
    }
   ],
   "source": [
    "import astor\n",
    "print(astor.dump_tree(parse('a = variables[1]')))"
   ]
  },
  {
   "cell_type": "code",
   "execution_count": null,
   "metadata": {},
   "outputs": [],
   "source": []
  }
 ],
 "metadata": {
  "kernelspec": {
   "display_name": "Python 3",
   "language": "python",
   "name": "python3"
  },
  "language_info": {
   "codemirror_mode": {
    "name": "ipython",
    "version": 3
   },
   "file_extension": ".py",
   "mimetype": "text/x-python",
   "name": "python",
   "nbconvert_exporter": "python",
   "pygments_lexer": "ipython3",
   "version": "3.8.2"
  }
 },
 "nbformat": 4,
 "nbformat_minor": 4
}
