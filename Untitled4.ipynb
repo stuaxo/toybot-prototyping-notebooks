{
 "cells": [
  {
   "cell_type": "code",
   "execution_count": 12,
   "metadata": {},
   "outputs": [
    {
     "name": "stdout",
     "output_type": "stream",
     "text": [
      "\n",
      "data = {}\n",
      "variables = {'a': 1}\n"
     ]
    }
   ],
   "source": [
    "import ast\n",
    "class RewriteName(ast.NodeTransformer):\n",
    "    \"\"\"AST Node Transformer to rewrite variable accesses to go through\n",
    "    a dict.\n",
    "    \"\"\"\n",
    "\n",
    "    def __init__(self, sandbox, global_name):\n",
    "        self._sandbox = sandbox\n",
    "        self._global_name = global_name\n",
    "\n",
    "    def visit_Str(self, node):\n",
    "        node.s = six.ensure_text(node.s)\n",
    "        return node\n",
    "\n",
    "    def visit_Name(self, node):\n",
    "        # Modify uppercase variable references and names known to the\n",
    "        # sandbox as if they were retrieved from a dict instead.\n",
    "        if not node.id.isupper() and node.id not in self._sandbox:\n",
    "            return node\n",
    "\n",
    "        def c(new_node):\n",
    "            return ast.copy_location(new_node, node)\n",
    "\n",
    "        return c(ast.Subscript(\n",
    "            value=c(ast.Name(id=self._global_name, ctx=ast.Load())),\n",
    "            slice=c(ast.Index(value=c(ast.Str(s=node.id)))),\n",
    "            ctx=node.ctx\n",
    "        ))\n",
    "    \n",
    "source = \"\"\"\\\n",
    "def variables(name):\n",
    "   return 10\n",
    "\n",
    "variables = {}\n",
    "a = 1\n",
    "\"\"\"\n",
    "ns = {\"data\": {}}\n",
    "\n",
    "\n",
    "code_obj = compile(source, \"<string>\", \"exec\")\n",
    "\n",
    "tree = ast.parse(source)\n",
    "tree = RewriteName({\"a\"}, \"variables\").visit(tree)\n",
    "ast.fix_missing_locations(tree) \n",
    "exec(compile(tree, filename=\"<ast>\", mode=\"exec\"), ns, ns)\n",
    "\n",
    "print()\n",
    "#exec(code_obj, ns, ns)\n",
    "for k, v in ns.items():\n",
    "    if k == '__overrides' or not k.startswith('_'):\n",
    "        print(f\"{k} = {v}\")"
   ]
  }
 ],
 "metadata": {
  "kernelspec": {
   "display_name": "Python 3",
   "language": "python",
   "name": "python3"
  },
  "language_info": {
   "codemirror_mode": {
    "name": "ipython",
    "version": 3
   },
   "file_extension": ".py",
   "mimetype": "text/x-python",
   "name": "python",
   "nbconvert_exporter": "python",
   "pygments_lexer": "ipython3",
   "version": "3.8.2"
  }
 },
 "nbformat": 4,
 "nbformat_minor": 4
}
