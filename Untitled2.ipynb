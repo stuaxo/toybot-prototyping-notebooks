{
 "cells": [
  {
   "cell_type": "code",
   "execution_count": 2,
   "metadata": {},
   "outputs": [
    {
     "name": "stdout",
     "output_type": "stream",
     "text": [
      "Requirement already satisfied: astor in /home/stu/.virtualenvs/shoebot/lib/python3.8/site-packages (0.8.1)\r\n"
     ]
    }
   ],
   "source": [
    "!pip install astor"
   ]
  },
  {
   "cell_type": "code",
   "execution_count": 56,
   "metadata": {},
   "outputs": [],
   "source": [
    "import ast\n",
    "\n",
    "class RewriteVariables(ast.NodeTransformer):\n",
    "\n",
    "    def visit_Name(self, node):\n",
    "        print(node.ctx)\n",
    "        return node\n",
    "#         return ast.copy_location(\n",
    "#             ast.Call(func=ast.Name(id='func', ctx=ast.Load()),\n",
    "#                                 args=[node], keywords=[])\n",
    "#         , node)\n",
    "\n",
    "#tree = RewriteName().visit(tree)\n",
    "# class RewriteName(ast.NodeTransformer):\n",
    "\n",
    "#     def visit_Name(self, node):\n",
    "#         print(node.id)\n",
    "#         return ast.copy_location(ast.Expr(\n",
    "# ast.Assign(targets=[ast.Name(id='a')],\n",
    "#             value=ast.Subscript(value=ast.Name(id='__overrides'), slice=ast.Index(value=ast.Constant(value='a', kind=None))),\n",
    "#             type_comment=None)\n",
    "# ),node\n",
    "#                                 )\n",
    "#        value=Subscript(value=Name(id='__overrides'), slice=Index(value=Constant(value='a', kind=None)))\n",
    "#         return ast.copy_location(ast.Assign(targets=[ast.Name(id='a')],\n",
    "#                     value=ast.Subscript(value=ast.Name(id='__overrides'), \n",
    "#                                     slice=ast.Index(value=ast.Constant(value='a', kind=None))),\n",
    "#                     type_comment=None), node)\n",
    "#         return ast.copy_location(ast.Subscript(\n",
    "#             value=ast.Name(id='__overrides', ctx=ast.Load()), \n",
    "#             slice=ast.Index(value=ast.Constant(value='a', kind=None)),\n",
    "#             ctx=node.ctx\n",
    "#         ), node)"
   ]
  },
  {
   "cell_type": "code",
   "execution_count": 84,
   "metadata": {},
   "outputs": [],
   "source": [
    "# Expr(value=Call(func=Name(id='func', ctx=Load()),\n",
    "#          args=[\n",
    "#                 Name(id='a', ctx=Load()),\n",
    "#                 Starred(value=Name(id='d', ctx=Load()), ctx=Load()) # new in 3.5\n",
    "#              ],\n",
    "#          keywords=[\n",
    "#                 keyword(arg='b', value=Name(id='c', ctx=Load())),\n",
    "#                 keyword(arg=None, value=Name(id='e', ctx=Load()))   # new in 3.5\n",
    "#              ]))"
   ]
  },
  {
   "cell_type": "code",
   "execution_count": 65,
   "metadata": {},
   "outputs": [
    {
     "name": "stdout",
     "output_type": "stream",
     "text": [
      "<_ast.Store object at 0x7fe7cb8aba30>\n",
      "a\n",
      "\n",
      "data = {}\n",
      "variables = <function variables at 0x7fe7aff91c10>\n",
      "a = 1\n"
     ]
    }
   ],
   "source": [
    "class RewriteVariables(ast.NodeTransformer):\n",
    "\n",
    "    def visit_Name(self, node):\n",
    "        if isinstance(node.ctx, ast.Store):\n",
    "            print(node.ctx)\n",
    "            print(node.id)\n",
    "        return node\n",
    "    \n",
    "source = \"\"\"\\\n",
    "def variables(name):\n",
    "   return 10\n",
    "\n",
    "a = 1\n",
    "\"\"\"\n",
    "ns = {\"data\": {}}\n",
    "\n",
    "\n",
    "code_obj = compile(source, \"<string>\", \"exec\")\n",
    "\n",
    "tree = ast.parse(source)\n",
    "tree = RewriteVariables().visit(tree)\n",
    "ast.fix_missing_locations(tree) \n",
    "exec(compile(tree, filename=\"<ast>\", mode=\"exec\"), ns, ns)\n",
    "\n",
    "\n",
    "print()\n",
    "#exec(code_obj, ns, ns)\n",
    "for k, v in ns.items():\n",
    "    if k == '__overrides' or not k.startswith('_'):\n",
    "        print(f\"{k} = {v}\")"
   ]
  },
  {
   "cell_type": "code",
   "execution_count": 66,
   "metadata": {},
   "outputs": [
    {
     "name": "stdout",
     "output_type": "stream",
     "text": [
      "Module(\n",
      "    body=[\n",
      "        Assign(targets=[Name(id='a')],\n",
      "            value=Call(func=Name(id='variables'), args=[Constant(value='a', kind=None)], keywords=[]),\n",
      "            type_comment=None)],\n",
      "    type_ignores=[])\n"
     ]
    }
   ],
   "source": [
    "import astor\n",
    "\n",
    "tree = ast.parse(\"\"\"\\\n",
    "a = variables(\"a\")\n",
    "\"\"\")\n",
    "\n",
    "print(astor.dump_tree(tree))\n"
   ]
  },
  {
   "cell_type": "code",
   "execution_count": 49,
   "metadata": {},
   "outputs": [
    {
     "ename": "TypeError",
     "evalue": "required field \"ctx\" missing from Name",
     "output_type": "error",
     "traceback": [
      "\u001b[0;31m---------------------------------------------------------------------------\u001b[0m",
      "\u001b[0;31mTypeError\u001b[0m                                 Traceback (most recent call last)",
      "\u001b[0;32m<ipython-input-49-7f5b26dbfaad>\u001b[0m in \u001b[0;36m<module>\u001b[0;34m\u001b[0m\n\u001b[1;32m      9\u001b[0m \u001b[0mast\u001b[0m\u001b[0;34m.\u001b[0m\u001b[0mfix_missing_locations\u001b[0m\u001b[0;34m(\u001b[0m\u001b[0m_expre\u001b[0m\u001b[0;34m)\u001b[0m\u001b[0;34m\u001b[0m\u001b[0;34m\u001b[0m\u001b[0m\n\u001b[1;32m     10\u001b[0m \u001b[0;34m\u001b[0m\u001b[0m\n\u001b[0;32m---> 11\u001b[0;31m \u001b[0mexec\u001b[0m\u001b[0;34m(\u001b[0m\u001b[0mcompile\u001b[0m\u001b[0;34m(\u001b[0m\u001b[0m_expre\u001b[0m\u001b[0;34m,\u001b[0m \u001b[0mfilename\u001b[0m\u001b[0;34m=\u001b[0m\u001b[0;34m\"<ast>\"\u001b[0m\u001b[0;34m,\u001b[0m \u001b[0mmode\u001b[0m\u001b[0;34m=\u001b[0m\u001b[0;34m\"exec\"\u001b[0m\u001b[0;34m)\u001b[0m\u001b[0;34m,\u001b[0m \u001b[0mns\u001b[0m\u001b[0;34m,\u001b[0m \u001b[0mns\u001b[0m\u001b[0;34m)\u001b[0m\u001b[0;34m\u001b[0m\u001b[0;34m\u001b[0m\u001b[0m\n\u001b[0m\u001b[1;32m     12\u001b[0m \u001b[0;34m\u001b[0m\u001b[0m\n\u001b[1;32m     13\u001b[0m \u001b[0m_expre\u001b[0m\u001b[0;34m\u001b[0m\u001b[0;34m\u001b[0m\u001b[0m\n",
      "\u001b[0;31mTypeError\u001b[0m: required field \"ctx\" missing from Name"
     ]
    }
   ],
   "source": [
    "from ast import *\n",
    "\n",
    "_expre = ast.Module([\n",
    "    ast.Call(func=ast.Name(id='func', ctx=ast.Load()),\n",
    "                                args=[node], keywords=[])\n",
    "])\n",
    "\n",
    "ast.fix_missing_locations(_expre) \n",
    "\n",
    "exec(compile(_expre, filename=\"<ast>\", mode=\"exec\"), ns, ns)\n",
    "\n",
    "_expre"
   ]
  },
  {
   "cell_type": "code",
   "execution_count": 34,
   "metadata": {},
   "outputs": [
    {
     "ename": "AttributeError",
     "evalue": "'Assign' object has no attribute 'ctx'",
     "output_type": "error",
     "traceback": [
      "\u001b[0;31m---------------------------------------------------------------------------\u001b[0m",
      "\u001b[0;31mAttributeError\u001b[0m                            Traceback (most recent call last)",
      "\u001b[0;32m<ipython-input-34-446fc2d47b7d>\u001b[0m in \u001b[0;36m<module>\u001b[0;34m\u001b[0m\n\u001b[1;32m      2\u001b[0m \u001b[0;34m\u001b[0m\u001b[0m\n\u001b[1;32m      3\u001b[0m \u001b[0mtree\u001b[0m \u001b[0;34m=\u001b[0m \u001b[0mast\u001b[0m\u001b[0;34m.\u001b[0m\u001b[0mparse\u001b[0m\u001b[0;34m(\u001b[0m\u001b[0msource\u001b[0m\u001b[0;34m)\u001b[0m\u001b[0;34m\u001b[0m\u001b[0;34m\u001b[0m\u001b[0m\n\u001b[0;32m----> 4\u001b[0;31m \u001b[0mtree\u001b[0m \u001b[0;34m=\u001b[0m \u001b[0mRewriteName\u001b[0m\u001b[0;34m(\u001b[0m\u001b[0;34m)\u001b[0m\u001b[0;34m.\u001b[0m\u001b[0mvisit\u001b[0m\u001b[0;34m(\u001b[0m\u001b[0mtree\u001b[0m\u001b[0;34m)\u001b[0m\u001b[0;34m\u001b[0m\u001b[0;34m\u001b[0m\u001b[0m\n\u001b[0m",
      "\u001b[0;32m/usr/lib/python3.8/ast.py\u001b[0m in \u001b[0;36mvisit\u001b[0;34m(self, node)\u001b[0m\n\u001b[1;32m    358\u001b[0m         \u001b[0mmethod\u001b[0m \u001b[0;34m=\u001b[0m \u001b[0;34m'visit_'\u001b[0m \u001b[0;34m+\u001b[0m \u001b[0mnode\u001b[0m\u001b[0;34m.\u001b[0m\u001b[0m__class__\u001b[0m\u001b[0;34m.\u001b[0m\u001b[0m__name__\u001b[0m\u001b[0;34m\u001b[0m\u001b[0;34m\u001b[0m\u001b[0m\n\u001b[1;32m    359\u001b[0m         \u001b[0mvisitor\u001b[0m \u001b[0;34m=\u001b[0m \u001b[0mgetattr\u001b[0m\u001b[0;34m(\u001b[0m\u001b[0mself\u001b[0m\u001b[0;34m,\u001b[0m \u001b[0mmethod\u001b[0m\u001b[0;34m,\u001b[0m \u001b[0mself\u001b[0m\u001b[0;34m.\u001b[0m\u001b[0mgeneric_visit\u001b[0m\u001b[0;34m)\u001b[0m\u001b[0;34m\u001b[0m\u001b[0;34m\u001b[0m\u001b[0m\n\u001b[0;32m--> 360\u001b[0;31m         \u001b[0;32mreturn\u001b[0m \u001b[0mvisitor\u001b[0m\u001b[0;34m(\u001b[0m\u001b[0mnode\u001b[0m\u001b[0;34m)\u001b[0m\u001b[0;34m\u001b[0m\u001b[0;34m\u001b[0m\u001b[0m\n\u001b[0m\u001b[1;32m    361\u001b[0m \u001b[0;34m\u001b[0m\u001b[0m\n\u001b[1;32m    362\u001b[0m     \u001b[0;32mdef\u001b[0m \u001b[0mgeneric_visit\u001b[0m\u001b[0;34m(\u001b[0m\u001b[0mself\u001b[0m\u001b[0;34m,\u001b[0m \u001b[0mnode\u001b[0m\u001b[0;34m)\u001b[0m\u001b[0;34m:\u001b[0m\u001b[0;34m\u001b[0m\u001b[0;34m\u001b[0m\u001b[0m\n",
      "\u001b[0;32m/usr/lib/python3.8/ast.py\u001b[0m in \u001b[0;36mgeneric_visit\u001b[0;34m(self, node)\u001b[0m\n\u001b[1;32m    434\u001b[0m                 \u001b[0;32mfor\u001b[0m \u001b[0mvalue\u001b[0m \u001b[0;32min\u001b[0m \u001b[0mold_value\u001b[0m\u001b[0;34m:\u001b[0m\u001b[0;34m\u001b[0m\u001b[0;34m\u001b[0m\u001b[0m\n\u001b[1;32m    435\u001b[0m                     \u001b[0;32mif\u001b[0m \u001b[0misinstance\u001b[0m\u001b[0;34m(\u001b[0m\u001b[0mvalue\u001b[0m\u001b[0;34m,\u001b[0m \u001b[0mAST\u001b[0m\u001b[0;34m)\u001b[0m\u001b[0;34m:\u001b[0m\u001b[0;34m\u001b[0m\u001b[0;34m\u001b[0m\u001b[0m\n\u001b[0;32m--> 436\u001b[0;31m                         \u001b[0mvalue\u001b[0m \u001b[0;34m=\u001b[0m \u001b[0mself\u001b[0m\u001b[0;34m.\u001b[0m\u001b[0mvisit\u001b[0m\u001b[0;34m(\u001b[0m\u001b[0mvalue\u001b[0m\u001b[0;34m)\u001b[0m\u001b[0;34m\u001b[0m\u001b[0;34m\u001b[0m\u001b[0m\n\u001b[0m\u001b[1;32m    437\u001b[0m                         \u001b[0;32mif\u001b[0m \u001b[0mvalue\u001b[0m \u001b[0;32mis\u001b[0m \u001b[0;32mNone\u001b[0m\u001b[0;34m:\u001b[0m\u001b[0;34m\u001b[0m\u001b[0;34m\u001b[0m\u001b[0m\n\u001b[1;32m    438\u001b[0m                             \u001b[0;32mcontinue\u001b[0m\u001b[0;34m\u001b[0m\u001b[0;34m\u001b[0m\u001b[0m\n",
      "\u001b[0;32m/usr/lib/python3.8/ast.py\u001b[0m in \u001b[0;36mvisit\u001b[0;34m(self, node)\u001b[0m\n\u001b[1;32m    358\u001b[0m         \u001b[0mmethod\u001b[0m \u001b[0;34m=\u001b[0m \u001b[0;34m'visit_'\u001b[0m \u001b[0;34m+\u001b[0m \u001b[0mnode\u001b[0m\u001b[0;34m.\u001b[0m\u001b[0m__class__\u001b[0m\u001b[0;34m.\u001b[0m\u001b[0m__name__\u001b[0m\u001b[0;34m\u001b[0m\u001b[0;34m\u001b[0m\u001b[0m\n\u001b[1;32m    359\u001b[0m         \u001b[0mvisitor\u001b[0m \u001b[0;34m=\u001b[0m \u001b[0mgetattr\u001b[0m\u001b[0;34m(\u001b[0m\u001b[0mself\u001b[0m\u001b[0;34m,\u001b[0m \u001b[0mmethod\u001b[0m\u001b[0;34m,\u001b[0m \u001b[0mself\u001b[0m\u001b[0;34m.\u001b[0m\u001b[0mgeneric_visit\u001b[0m\u001b[0;34m)\u001b[0m\u001b[0;34m\u001b[0m\u001b[0;34m\u001b[0m\u001b[0m\n\u001b[0;32m--> 360\u001b[0;31m         \u001b[0;32mreturn\u001b[0m \u001b[0mvisitor\u001b[0m\u001b[0;34m(\u001b[0m\u001b[0mnode\u001b[0m\u001b[0;34m)\u001b[0m\u001b[0;34m\u001b[0m\u001b[0;34m\u001b[0m\u001b[0m\n\u001b[0m\u001b[1;32m    361\u001b[0m \u001b[0;34m\u001b[0m\u001b[0m\n\u001b[1;32m    362\u001b[0m     \u001b[0;32mdef\u001b[0m \u001b[0mgeneric_visit\u001b[0m\u001b[0;34m(\u001b[0m\u001b[0mself\u001b[0m\u001b[0;34m,\u001b[0m \u001b[0mnode\u001b[0m\u001b[0;34m)\u001b[0m\u001b[0;34m:\u001b[0m\u001b[0;34m\u001b[0m\u001b[0;34m\u001b[0m\u001b[0m\n",
      "\u001b[0;32m<ipython-input-24-e48c34c16730>\u001b[0m in \u001b[0;36mvisit_Assign\u001b[0;34m(self, node)\u001b[0m\n\u001b[1;32m      7\u001b[0m \u001b[0;34m\u001b[0m\u001b[0m\n\u001b[1;32m      8\u001b[0m             ast.Assign(targets=node.targets,\n\u001b[0;32m----> 9\u001b[0;31m             value=Subscript(value=Name(id='overrides', ctx=node.ctx),\n\u001b[0m\u001b[1;32m     10\u001b[0m                             slice=Index(value=Constant(value='a', kind=None))),\n\u001b[1;32m     11\u001b[0m                        \u001b[0mctx\u001b[0m\u001b[0;34m=\u001b[0m\u001b[0mnode\u001b[0m\u001b[0;34m.\u001b[0m\u001b[0mctx\u001b[0m\u001b[0;34m,\u001b[0m\u001b[0;34m\u001b[0m\u001b[0;34m\u001b[0m\u001b[0m\n",
      "\u001b[0;31mAttributeError\u001b[0m: 'Assign' object has no attribute 'ctx'"
     ]
    }
   ],
   "source": [
    "source = \"a = 1\"\n",
    "\n",
    "tree = ast.parse(source)\n",
    "tree = RewriteName().visit(tree)\n"
   ]
  }
 ],
 "metadata": {
  "kernelspec": {
   "display_name": "Python 3",
   "language": "python",
   "name": "python3"
  },
  "language_info": {
   "codemirror_mode": {
    "name": "ipython",
    "version": 3
   },
   "file_extension": ".py",
   "mimetype": "text/x-python",
   "name": "python",
   "nbconvert_exporter": "python",
   "pygments_lexer": "ipython3",
   "version": "3.8.2"
  }
 },
 "nbformat": 4,
 "nbformat_minor": 4
}
