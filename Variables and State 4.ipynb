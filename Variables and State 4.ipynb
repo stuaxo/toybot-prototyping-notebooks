{
 "cells": [
  {
   "cell_type": "code",
   "execution_count": 1,
   "metadata": {},
   "outputs": [],
   "source": [
    "# Priority...\n",
    "\n",
    "# if changed from code, this is priority, update everything else.\n",
    "#   elif changed from external, take this and update everything.\n",
    "\n",
    "# TODO: Change update() to reflect this."
   ]
  },
  {
   "cell_type": "code",
   "execution_count": 2,
   "metadata": {},
   "outputs": [],
   "source": [
    "ns = {\n",
    "    #\"test\": 0,\n",
    "}\n",
    "widgets = {\"test\": {\"value\": 5, \"min\": 0, \"max\": 20}}"
   ]
  },
  {
   "cell_type": "code",
   "execution_count": 3,
   "metadata": {},
   "outputs": [],
   "source": [
    "from ipywidgets import IntSlider\n",
    "from IPython.display import display as _display\n",
    "\n",
    "def changed_values(old_values, values):\n",
    "    \"\"\"\n",
    "    :return: dict containing any values that have been added or changed.\n",
    "    \"\"\"\n",
    "    changed = {}\n",
    "    for k, v in values.items():\n",
    "        if k in old_values and v == old_values[k]:\n",
    "            continue\n",
    "        changed[k] = v\n",
    "    return changed\n",
    "\n",
    "class IntegerVariable:\n",
    "    def __init__(self, value, min, max):\n",
    "        self.value = value\n",
    "        self.min = min\n",
    "        self.max = max\n",
    "        \n",
    "    def __repr__(self):\n",
    "        return f\"<IntegerVariable {self.value}, min={self.min}, max={self.max}>\"\n",
    "\n",
    "    \n",
    "VARIABLE_TYPES = {\n",
    "    int: IntegerVariable,\n",
    "}\n",
    "\n",
    "def new_variable_from_value(**kwargs):\n",
    "    \"\"\"\n",
    "    :param value: value of variable.\n",
    "    :param type: type of new variable (if not specified, type of value is used.)\n",
    "    :param kwargs: Expanded and passed to variable constructor.\n",
    "    \n",
    "    Build variables by looking up the type of specif\n",
    "    \n",
    "    >>> new_variable_from_value(value=5, min=0, max=20)\n",
    "    <IntegerVariable 5, min=0, max=20>\n",
    "    \n",
    "    >>> new_variable_from_value(value=5, type=int, min=0, max=20)\n",
    "    <IntegerVariable 5, min=0, max=20>\n",
    "    \"\"\"\n",
    "    value = kwargs.pop(\"value\")\n",
    "    _type = kwargs.pop(\"type\", None) or type(value)\n",
    "    klass = VARIABLE_TYPES.get(_type)\n",
    "    if klass is None:\n",
    "       raise ValueError(f\"I don't know how to create a variable from a {type(value)}.\")\n",
    "    \n",
    "    return klass(value, **kwargs)\n",
    "    \n",
    "    \n",
    "\n",
    "        \n",
    "class IPyWidgetsView:\n",
    "    \"\"\"\n",
    "    View to interact with Shoebot variables as IPython widgets.\n",
    "    \"\"\"\n",
    "    def __init__(self):\n",
    "        self.widgets = {}\n",
    "        \n",
    "    def add_variable(self, name, variable):\n",
    "        widget = IntSlider(value=variable.value, description=name.capitalize())\n",
    "        self.widgets[name] = widget\n",
    "    \n",
    "    def get_values(self):\n",
    "        return {name: widget.value for name, widget in self.widgets.items()}\n",
    "    \n",
    "    def update_values(self, values):\n",
    "        \"\"\"\n",
    "        :param values: dict of new values.\n",
    "        \"\"\"\n",
    "        for k, v in values.items():\n",
    "            widget = self.widgets.get(k)\n",
    "            if widget:\n",
    "                widget.value = v\n",
    "                \n",
    "    def display(self):\n",
    "        for widget in self.widgets.values():\n",
    "            _display(widget)\n",
    "\n",
    "class VariablesModel:\n",
    "    \"\"\"\n",
    "    Model manages storage of Shoebot variables, \n",
    "    \"\"\"\n",
    "    def __init__(self, values):\n",
    "        \"\"\"\n",
    "        :param values:   Dictionary of variables to manage.\n",
    "        \"\"\"\n",
    "        self.old_values = {}\n",
    "        self.values = values\n",
    "        \n",
    "    def add_variable(self, name, variable):\n",
    "        self.change_value(name, variable.value)\n",
    "        return variable\n",
    "\n",
    "    def get_changed_values(self):\n",
    "        \"\"\"\n",
    "        :return: dict containing any values that have been added or changed.\n",
    "        \"\"\"\n",
    "        return changed_values(self.old_values, self.values)\n",
    "\n",
    "    def change_value(self, name, value):\n",
    "        \"\"\"\n",
    "        Set value and mark as changed.\n",
    "        \"\"\"\n",
    "        self.old_values.pop(name, None)\n",
    "        self.values[name] = value\n",
    "\n",
    "        \n",
    "class VariablesController:\n",
    "    \"\"\"\n",
    "    Shoebot \"variables\" use an MVC based system to allow external\n",
    "    updates from endpoints such as IPython widgets or an HTTP API.\n",
    "    \"\"\"\n",
    "    def __init__(self, ns):\n",
    "        self.model = VariablesModel(ns)\n",
    "        self.view = IPyWidgetsView()\n",
    "        \n",
    "    def add_variables(self, widget_kwargs):\n",
    "        variables = {}\n",
    "        for name, kwargs in widget_kwargs.items():\n",
    "            print(kwargs)\n",
    "            variable = new_variable_from_value(**kwargs)            \n",
    "            self.view.add_variable(name, variable)\n",
    "            \n",
    "            self.model.add_variable(name, variable)\n",
    "            # Model should not trigger an update, so set it's old_value\n",
    "            self.model.old_values[name] = variable.value\n",
    "            \n",
    "            variables[name] = variable\n",
    "            \n",
    "        self.view.update_values({name: variable.value for name, variable in variables.items()})\n",
    "        return variables\n",
    "\n",
    "    def update(self):\n",
    "        \"\"\"\n",
    "        Sync up model and view.\n",
    "        \"\"\"\n",
    "        old_values = dict(self.model.old_values)\n",
    "        model_changed = self.model.get_changed_values()\n",
    "        view_changed = changed_values(self.model.old_values, self.view.get_values())\n",
    "        \n",
    "        # start with view data, then overwrite with model\n",
    "        merged = dict(view_changed, **model_changed)\n",
    "                \n",
    "        self.view.update_values(model_changed)\n",
    "        self.model.values.update(merged)\n",
    "        return merged\n",
    "\n",
    "\n",
    "class Context:\n",
    "    def __init__(self):\n",
    "        self.ns = {}\n",
    "        self._variables = VariablesController(self.ns)\n",
    "\n",
    "    def _add_variables(self, widget_kwargs):\n",
    "        \"\"\"\n",
    "        :param new_values:  These values \n",
    "        \"\"\"\n",
    "        # Called at beginning of bot script to crea\n",
    "        return self._variables.add_variables(widget_kwargs)\n",
    "\n",
    "    def _update_variables(self):\n",
    "        \"\"\"\n",
    "        Update variable in namespace from widgets\n",
    "        \"\"\"\n",
    "        return self._variables.update()\n",
    "\n",
    "\n",
    "def setup(widgets):\n",
    "    global ctx\n",
    "    \n",
    "    ctx = Context()\n",
    "    variables = ctx._add_variables(widgets)"
   ]
  },
  {
   "cell_type": "code",
   "execution_count": 4,
   "metadata": {},
   "outputs": [
    {
     "name": "stdout",
     "output_type": "stream",
     "text": [
      "{'value': 5, 'min': 0, 'max': 20}\n"
     ]
    },
    {
     "data": {
      "application/vnd.jupyter.widget-view+json": {
       "model_id": "74d0ed6743e34be086b332951385e493",
       "version_major": 2,
       "version_minor": 0
      },
      "text/plain": [
       "IntSlider(value=5, description='Test')"
      ]
     },
     "metadata": {},
     "output_type": "display_data"
    }
   ],
   "source": [
    "# Test setup sets namespace and external widgets.\n",
    "widgets = {\"test\": {\"value\": 5, \"min\": 0, \"max\": 20}}\n",
    "\n",
    "setup(widgets)\n",
    "\n",
    "ctx._variables.view.display()\n",
    "\n",
    "assert ctx.ns == {\"test\": 5}, f'Expected {\"test\": 5} but found {ctx.ns}'\n",
    "assert ctx._variables.view.widgets[\"test\"].value == 5, ctx._variables.view.widgets[\"test\"].value"
   ]
  },
  {
   "cell_type": "code",
   "execution_count": 5,
   "metadata": {},
   "outputs": [
    {
     "name": "stdout",
     "output_type": "stream",
     "text": [
      "{'value': 8, 'min': 0, 'max': 20}\n"
     ]
    },
    {
     "data": {
      "application/vnd.jupyter.widget-view+json": {
       "model_id": "d10042c1c000499396f2ddca0f2501f5",
       "version_major": 2,
       "version_minor": 0
      },
      "text/plain": [
       "IntSlider(value=1, description='Test')"
      ]
     },
     "metadata": {},
     "output_type": "display_data"
    }
   ],
   "source": [
    "# view change\n",
    "# Test changing the slider value updates model\n",
    "\n",
    "widgets = {\"test\": {\"value\": 8, \"min\": 0, \"max\": 20}}\n",
    "\n",
    "setup(widgets)\n",
    "\n",
    "\n",
    "# pre-requisites\n",
    "assert ctx.ns == {\"test\": 8}, f'Expected {\"test\": 8} but found {ctx.ns}'\n",
    "assert ctx._variables.view.widgets[\"test\"].value == 8, ctx._variables.view.widgets[\"test\"].value\n",
    "\n",
    "ctx._variables.view.widgets[\"test\"].value = 1\n",
    "\n",
    "ctx._update_variables()\n",
    "\n",
    "#ctx._variables.view.display()\n",
    "display(ctx._variables.view.widgets['test'])\n",
    "\n",
    "\n",
    "assert ctx.ns[\"test\"] == 1\n",
    "assert ctx._variables.view.widgets[\"test\"].value == 1, ctx._variables.view.widgets[\"test\"].value"
   ]
  },
  {
   "cell_type": "code",
   "execution_count": 6,
   "metadata": {},
   "outputs": [
    {
     "name": "stdout",
     "output_type": "stream",
     "text": [
      "{'value': 3, 'min': 0, 'max': 20}\n"
     ]
    },
    {
     "data": {
      "application/vnd.jupyter.widget-view+json": {
       "model_id": "9d3bad1742a24389b44015f2cddd256a",
       "version_major": 2,
       "version_minor": 0
      },
      "text/plain": [
       "IntSlider(value=10, description='Test')"
      ]
     },
     "metadata": {},
     "output_type": "display_data"
    },
    {
     "name": "stdout",
     "output_type": "stream",
     "text": [
      "10\n",
      "{'test': IntSlider(value=10, description='Test')}\n"
     ]
    }
   ],
   "source": [
    "# Test updating model updates slider value\n",
    "widgets = {\"test\": {\"value\": 3, \"min\": 0, \"max\": 20}}\n",
    "\n",
    "setup(widgets)\n",
    "\n",
    "# pre-requisites\n",
    "assert ctx.ns == {\"test\": 3}, f'Expected {\"test\": 3} but found {ctx.ns}'\n",
    "assert ctx._variables.view.widgets[\"test\"].value == 3, ctx._variables.view.widgets[\"test\"].value\n",
    "\n",
    "ctx.ns[\"test\"] = 10\n",
    "ctx._update_variables()\n",
    "\n",
    "ctx._variables.view.display()\n",
    "\n",
    "print(ctx.ns[\"test\"])\n",
    "print(ctx._variables.view.widgets)\n",
    "\n",
    "assert ctx.ns[\"test\"] == 10  # TODO\n",
    "assert ctx._variables.view.widgets[\"test\"].value == 10"
   ]
  },
  {
   "cell_type": "code",
   "execution_count": 11,
   "metadata": {},
   "outputs": [
    {
     "name": "stdout",
     "output_type": "stream",
     "text": [
      "{'value': 5, 'min': 0, 'max': 20}\n"
     ]
    },
    {
     "data": {
      "application/vnd.jupyter.widget-view+json": {
       "model_id": "a20739b7bf824f5181ab317668516dfe",
       "version_major": 2,
       "version_minor": 0
      },
      "text/plain": [
       "IntSlider(value=7, description='Test')"
      ]
     },
     "metadata": {},
     "output_type": "display_data"
    },
    {
     "name": "stdout",
     "output_type": "stream",
     "text": [
      "7\n",
      "{'test': IntSlider(value=7, description='Test')}\n"
     ]
    }
   ],
   "source": [
    "# If there is a change from both model (code) and view,\n",
    "# then the model change should take priority.\n",
    "widgets = {\"test\": {\"value\": 5, \"min\": 0, \"max\": 20}}\n",
    "\n",
    "setup(widgets)\n",
    "\n",
    "# pre-requisites\n",
    "assert ctx.ns == {\"test\": 5}, f'Expected {\"test\": 5} but found {ctx.ns}'\n",
    "assert ctx._variables.view.widgets[\"test\"].value == 5, ctx._variables.view.widgets[\"test\"].value\n",
    "\n",
    "ctx._variables.view.widgets[\"test\"].value = 8\n",
    "ctx.ns[\"test\"] = 7\n",
    "ctx._update_variables()\n",
    "\n",
    "ctx._variables.view.display()\n",
    "\n",
    "print(ctx.ns[\"test\"])\n",
    "print(ctx._variables.view.widgets)\n",
    "\n",
    "assert ctx.ns[\"test\"] == 7  # TODO\n",
    "assert ctx._variables.view.widgets[\"test\"].value == 7"
   ]
  },
  {
   "cell_type": "code",
   "execution_count": 10,
   "metadata": {},
   "outputs": [
    {
     "data": {
      "text/plain": [
       "{'a': 1, 'b': {'type': 'int', 'min': 0, 'max': 10, 'value': 100}}"
      ]
     },
     "execution_count": 10,
     "metadata": {},
     "output_type": "execute_result"
    }
   ],
   "source": [
    "{\"a\": 1, \"b\": {\"type\": \"int\", \"min\": 0, \"max\": 10, \"value\": 100}}"
   ]
  },
  {
   "cell_type": "code",
   "execution_count": 9,
   "metadata": {},
   "outputs": [],
   "source": [
    "# In Shoebot 1.x, you could pass values for variables - but only those that use add_variable in the code.\n",
    "# For Shoebot 2, we want to set anything in the namespace..\n",
    "\n",
    "# Option 1:   Pass type info first \n",
    "# Option 2:   Run bot frame and get type info...\n",
    "\n",
    "# Option 3:   Analyse code to find types :)"
   ]
  }
 ],
 "metadata": {
  "kernelspec": {
   "display_name": "Python 3",
   "language": "python",
   "name": "python3"
  },
  "language_info": {
   "codemirror_mode": {
    "name": "ipython",
    "version": 3
   },
   "file_extension": ".py",
   "mimetype": "text/x-python",
   "name": "python",
   "nbconvert_exporter": "python",
   "pygments_lexer": "ipython3",
   "version": "3.8.5"
  }
 },
 "nbformat": 4,
 "nbformat_minor": 4
}
