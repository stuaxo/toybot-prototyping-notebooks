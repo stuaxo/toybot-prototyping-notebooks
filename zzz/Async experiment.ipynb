{
 "cells": [
  {
   "cell_type": "code",
   "execution_count": 1,
   "metadata": {},
   "outputs": [
    {
     "name": "stdout",
     "output_type": "stream",
     "text": [
      "Requirement already satisfied: aiohttp in /home/stu/.virtualenvs/shoebot/lib/python3.8/site-packages (3.6.2)\n",
      "Requirement already satisfied: yarl<2.0,>=1.0 in /home/stu/.virtualenvs/shoebot/lib/python3.8/site-packages (from aiohttp) (1.4.2)\n",
      "Requirement already satisfied: async-timeout<4.0,>=3.0 in /home/stu/.virtualenvs/shoebot/lib/python3.8/site-packages (from aiohttp) (3.0.1)\n",
      "Requirement already satisfied: attrs>=17.3.0 in /home/stu/.virtualenvs/shoebot/lib/python3.8/site-packages (from aiohttp) (19.3.0)\n",
      "Requirement already satisfied: multidict<5.0,>=4.5 in /home/stu/.virtualenvs/shoebot/lib/python3.8/site-packages (from aiohttp) (4.7.6)\n",
      "Requirement already satisfied: chardet<4.0,>=2.0 in /home/stu/.virtualenvs/shoebot/lib/python3.8/site-packages (from aiohttp) (3.0.4)\n",
      "Requirement already satisfied: idna>=2.0 in /home/stu/.virtualenvs/shoebot/lib/python3.8/site-packages (from yarl<2.0,>=1.0->aiohttp) (2.8)\n"
     ]
    }
   ],
   "source": [
    "# async file io, aiohttp\n",
    "!pip install aiohttp"
   ]
  },
  {
   "cell_type": "code",
   "execution_count": 2,
   "metadata": {},
   "outputs": [
    {
     "ename": "NameError",
     "evalue": "name 'aio' is not defined",
     "output_type": "error",
     "traceback": [
      "\u001b[0;31m---------------------------------------------------------------------------\u001b[0m",
      "\u001b[0;31mNameError\u001b[0m                                 Traceback (most recent call last)",
      "\u001b[0;32m<ipython-input-2-ecaae1bfb35f>\u001b[0m in \u001b[0;36m<module>\u001b[0;34m\u001b[0m\n\u001b[1;32m      6\u001b[0m     )\n\u001b[1;32m      7\u001b[0m \u001b[0;34m\u001b[0m\u001b[0m\n\u001b[0;32m----> 8\u001b[0;31m \u001b[0maio\u001b[0m\u001b[0;34m.\u001b[0m\u001b[0mrun\u001b[0m\u001b[0;34m(\u001b[0m\u001b[0mmain\u001b[0m\u001b[0;34m(\u001b[0m\u001b[0;34m)\u001b[0m\u001b[0;34m)\u001b[0m\u001b[0;34m\u001b[0m\u001b[0;34m\u001b[0m\u001b[0m\n\u001b[0m",
      "\u001b[0;31mNameError\u001b[0m: name 'aio' is not defined"
     ]
    }
   ],
   "source": [
    "async def main():\n",
    "    await aio.gather(\n",
    "        web._run_app(app, port=args.port),\n",
    "        SomeotherTask(),\n",
    "        AndAnotherTask()\n",
    "    )\n",
    "\n",
    "aio.run(main())"
   ]
  },
  {
   "cell_type": "code",
   "execution_count": null,
   "metadata": {},
   "outputs": [
    {
     "name": "stdout",
     "output_type": "stream",
     "text": [
      "go...\n",
      "hello\n",
      "======== Running on http://0.0.0.0:9999 ========\n",
      "(Press CTRL+C to quit)\n",
      "hello\n",
      "hello\n",
      "hello\n"
     ]
    }
   ],
   "source": [
    "# send code via http\n",
    "\n",
    "import asyncio as aio\n",
    "# examples/server_simple.py\n",
    "from aiohttp import web\n",
    "\n",
    "async def handle(request):\n",
    "    name = request.match_info.get('name', \"Anonymous\")\n",
    "    text = \"Hello, \" + name\n",
    "    return web.Response(text=text)\n",
    "\n",
    "# async def wshandle(request):\n",
    "#     ws = web.WebSocketResponse()\n",
    "#     await ws.prepare(request)\n",
    "\n",
    "#     async for msg in ws:\n",
    "#         if msg.type == web.WSMsgType.text:\n",
    "#             await ws.send_str(\"Hello, {}\".format(msg.data))\n",
    "#         elif msg.type == web.WSMsgType.binary:\n",
    "#             await ws.send_bytes(msg.data)\n",
    "#         elif msg.type == web.WSMsgType.close:\n",
    "#             break\n",
    "\n",
    "#     return ws\n",
    "\n",
    "\n",
    "app = web.Application()\n",
    "app.add_routes([web.get('/', handle),\n",
    "                #web.get('/echo', wshandle),\n",
    "                web.get('/{name}', handle)])\n",
    "\n",
    "# if __name__ == '__main__':\n",
    "#     web.run_app(app)\n",
    "\n",
    "async def hello():\n",
    "    while True:\n",
    "        print(\"hello\")\n",
    "        await aio.sleep(1)\n",
    "    \n",
    "async def main():\n",
    "    try:\n",
    "        await aio.gather(\n",
    "            web._run_app(app, port=9999),\n",
    "            hello(),\n",
    "            #return_exceptions=True,\n",
    "        )\n",
    "    except Exception as e:\n",
    "        print(\"exception in main()\", file=sys.__stderr__)\n",
    "\n",
    "#aio.run(main())\n",
    "\n",
    "print(\"go...\")\n",
    "await main()\n",
    "\n",
    "print(\"hi\")"
   ]
  },
  {
   "cell_type": "code",
   "execution_count": null,
   "metadata": {},
   "outputs": [],
   "source": [
    "# save file\n",
    "#web.run_app(app)\n",
    "\n",
    "2"
   ]
  }
 ],
 "metadata": {
  "kernelspec": {
   "display_name": "Python 3",
   "language": "python",
   "name": "python3"
  },
  "language_info": {
   "codemirror_mode": {
    "name": "ipython",
    "version": 3
   },
   "file_extension": ".py",
   "mimetype": "text/x-python",
   "name": "python",
   "nbconvert_exporter": "python",
   "pygments_lexer": "ipython3",
   "version": "3.8.2"
  }
 },
 "nbformat": 4,
 "nbformat_minor": 4
}
