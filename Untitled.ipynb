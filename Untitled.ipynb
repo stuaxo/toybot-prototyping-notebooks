{
 "cells": [
  {
   "cell_type": "code",
   "execution_count": 80,
   "metadata": {},
   "outputs": [
    {
     "data": {
      "text/plain": [
       "'1.3.1'"
      ]
     },
     "execution_count": 80,
     "metadata": {},
     "output_type": "execute_result"
    }
   ],
   "source": [
    "def read_version():\n",
    "    with open(\"VERSION\") as f:\n",
    "        version_info = dict(re.findall(\"(^[a-z]+)\\s+(.+)$\", f.read(), re.MULTILINE))\n",
    "    return version_info[\"version\"]\n",
    "\n",
    "read_version()"
   ]
  },
  {
   "cell_type": "code",
   "execution_count": 35,
   "metadata": {},
   "outputs": [
    {
     "data": {
      "text/plain": [
       "('version',)"
      ]
     },
     "execution_count": 35,
     "metadata": {},
     "output_type": "execute_result"
    }
   ],
   "source": [
    "line = \"version 1.3.1\\n\"\n",
    "\n",
    "import re\n",
    "\n",
    "_m = re.match(line, \" \")\n",
    "_m\n",
    "\n",
    "re.match(\"([a-z]+)\\s+\", line).groups()"
   ]
  },
  {
   "cell_type": "code",
   "execution_count": 72,
   "metadata": {},
   "outputs": [
    {
     "data": {
      "text/plain": [
       "[('name', 'Shoebot'),\n",
       " ('desc', 'vector graphics scripting application'),\n",
       " ('version', '1.3.1'),\n",
       " ('url', 'http://shoebot.net'),\n",
       " ('packager', 'Ricardo Lafuente <r@manufacturaindependente.org>')]"
      ]
     },
     "execution_count": 72,
     "metadata": {},
     "output_type": "execute_result"
    }
   ],
   "source": [
    "lines = \"\"\"\\\n",
    "name            Shoebot\n",
    "desc            vector graphics scripting application\n",
    "version         1.3.1\n",
    "url             http://shoebot.net\n",
    "packager        Ricardo Lafuente <r@manufacturaindependente.org>\n",
    "\"\"\"\n",
    "\n",
    "re.findall(\"(^[a-z]+)\\s+(.+)$\", lines, re.MULTILINE)"
   ]
  }
 ],
 "metadata": {
  "kernelspec": {
   "display_name": "Python 3",
   "language": "python",
   "name": "python3"
  },
  "language_info": {
   "codemirror_mode": {
    "name": "ipython",
    "version": 3
   },
   "file_extension": ".py",
   "mimetype": "text/x-python",
   "name": "python",
   "nbconvert_exporter": "python",
   "pygments_lexer": "ipython3",
   "version": "3.7.5"
  }
 },
 "nbformat": 4,
 "nbformat_minor": 4
}
