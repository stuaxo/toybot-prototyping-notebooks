{
 "cells": [
  {
   "cell_type": "code",
   "execution_count": 13,
   "metadata": {},
   "outputs": [],
   "source": [
    "ns = {\n",
    "    #\"test\": 0,\n",
    "}\n",
    "widgets = {\"test\": {\"value\": 5, \"min\": 0, \"max\": 20}}"
   ]
  },
  {
   "cell_type": "code",
   "execution_count": 20,
   "metadata": {},
   "outputs": [
    {
     "name": "stdout",
     "output_type": "stream",
     "text": [
      "model_changed {}\n",
      "view_changed {'test': 5}\n",
      "merged {'test': 5}\n"
     ]
    },
    {
     "data": {
      "application/vnd.jupyter.widget-view+json": {
       "model_id": "33bd9dd3d2a444eea3185bf106b4bf2c",
       "version_major": 2,
       "version_minor": 0
      },
      "text/plain": [
       "IntSlider(value=5, description='Test')"
      ]
     },
     "metadata": {},
     "output_type": "display_data"
    }
   ],
   "source": [
    "from ipywidgets import IntSlider\n",
    "from IPython.display import display as _display\n",
    "\n",
    "def changed_values(old_values, values):\n",
    "    \"\"\"\n",
    "    :return: dict containing any values that have been added or changed.\n",
    "    \"\"\"\n",
    "    changed = {}\n",
    "    for k, v in dict(values).items():\n",
    "        if k in old_values and v == old_values[k]:\n",
    "            continue\n",
    "        values.pop(k)\n",
    "        old_values[k] = v\n",
    "        changed[k] = v\n",
    "    return changed\n",
    "\n",
    "class IntegerVariable:\n",
    "    def __init__(self, value, min, max):\n",
    "        self.value = value\n",
    "        self.min = min\n",
    "        self.max = max\n",
    "        \n",
    "    def __repr__(self):\n",
    "        return f\"<IntegerVariable {self.value}, min={self.min}, max={self.max}>\"\n",
    "        \n",
    "class IPyWidgetsView:\n",
    "    \"\"\"\n",
    "    View to interact with Shoebot variables as IPython widgets.\n",
    "    \"\"\"\n",
    "    def __init__(self):\n",
    "        self.widgets = {}\n",
    "        \n",
    "    def add_variable(self, name, variable):\n",
    "        widget = IntSlider(value=variable.value, description=name.capitalize())\n",
    "        self.widgets[name] = widget\n",
    "    \n",
    "    def get_values(self):\n",
    "        return {name: widget.value for name, widget in self.widgets.items()}\n",
    "    \n",
    "    def update_values(self, values):\n",
    "        for k, v in values.items():\n",
    "            widget = self.widgets.get(k)\n",
    "            if widget:\n",
    "                widget.value = v\n",
    "                \n",
    "    def display(self):\n",
    "        for widget in self.widgets.values():\n",
    "            _display(widget)\n",
    "\n",
    "class VariablesModel:\n",
    "    def __init__(self, values):\n",
    "        self.old_values = {}\n",
    "        self.values = values\n",
    "        \n",
    "    def add_variable(self, name, variable):\n",
    "        self.change_value(name, variable.value)\n",
    "        return variable\n",
    "\n",
    "    def get_changed_values(self):\n",
    "        \"\"\"\n",
    "        :return: dict containing any values that have been added or changed.\n",
    "        \"\"\"\n",
    "        return changed_values(self.old_values, self.values)\n",
    "\n",
    "    def change_value(self, name, value):\n",
    "        \"\"\"\n",
    "        Set value and mark as changed.\n",
    "        \"\"\"\n",
    "        self.old_values.pop(name, None)\n",
    "        self.values[name] = value\n",
    "            \n",
    "            \n",
    "class VariablesController:\n",
    "    def __init__(self, ns):\n",
    "        self.model = VariablesModel(ns)\n",
    "        self.view = IPyWidgetsView()\n",
    "        \n",
    "    def add_variables(self, widget_kwargs): #, new_values):\n",
    "        variables = {}\n",
    "        for name, kwargs in widget_kwargs.items():\n",
    "            #if name in new_values:\n",
    "            #    kwargs[\"value\"] = new_values[name]\n",
    "            \n",
    "            variable = IntegerVariable(**kwargs)            \n",
    "            self.view.add_variable(name, variable)\n",
    "            variables[name] = variable\n",
    "            \n",
    "        return variables\n",
    "\n",
    "    def update(self):\n",
    "        \"\"\"\n",
    "        Sync up model and view.\n",
    "        \"\"\"\n",
    "        old_values = dict(self.model.old_values) ##\n",
    "        model_changed = self.model.get_changed_values()\n",
    "        #view_changed = changed_values(self.model.old_values, self.view.get_values())\n",
    "        view_changed = changed_values(old_values, self.view.get_values())\n",
    "        \n",
    "        merged = dict(model_changed, **view_changed)\n",
    "        \n",
    "        print(\"model_changed\", model_changed)\n",
    "        print(\"view_changed\", view_changed)\n",
    "        print(\"merged\", merged)\n",
    "        \n",
    "        self.view.update_values(model_changed)\n",
    "        self.model.values.update(merged)\n",
    "        return merged\n",
    "\n",
    "\n",
    "class Context:\n",
    "    def __init__(self):\n",
    "        if ns is None:\n",
    "            self.ns = {}\n",
    "        else:\n",
    "            self.ns = ns\n",
    "        self._variables = VariablesController(self.ns)\n",
    "\n",
    "    def _add_variables(self, widget_kwargs): #, new_values):\n",
    "        \"\"\"\n",
    "        :param new_values:  These values \n",
    "        \"\"\"\n",
    "        # Called at beginning of bot script to crea\n",
    "        return self._variables.add_variables(widget_kwargs)  #, new_values)\n",
    "\n",
    "    def _sync_variables(self):\n",
    "        \"\"\"\n",
    "        Update variable in namespace from widgets\n",
    "        \"\"\"\n",
    "        changed = self._variables.update()\n",
    "        #self.ns.update(dict(changed))\n",
    "        return changed\n",
    "\n",
    "\n",
    "def setup():\n",
    "    global widgets, ns, ctx\n",
    "    \n",
    "    widgets = {\"test\": {\"value\": 5, \"min\": 0, \"max\": 20}}\n",
    "    ns = {}\n",
    "    ctx = Context()\n",
    "    variables = ctx._add_variables(widgets)\n",
    "\n",
    "setup()\n",
    "\n",
    "ctx._sync_variables()\n",
    "ctx._variables.view.display()\n",
    "\n",
    "#assert ns is ctx.ns\n",
    "\n",
    "assert ctx.ns == {\"test\": 5}"
   ]
  },
  {
   "cell_type": "code",
   "execution_count": 21,
   "metadata": {},
   "outputs": [
    {
     "name": "stdout",
     "output_type": "stream",
     "text": [
      "{}\n",
      "{'test': IntSlider(value=5, description='Test')}\n",
      "model_changed {}\n",
      "view_changed {'test': 1}\n",
      "merged {'test': 1}\n"
     ]
    },
    {
     "data": {
      "application/vnd.jupyter.widget-view+json": {
       "model_id": "8f4ac90956524d6e9b04664b11417c21",
       "version_major": 2,
       "version_minor": 0
      },
      "text/plain": [
       "IntSlider(value=1, description='Test')"
      ]
     },
     "metadata": {},
     "output_type": "display_data"
    }
   ],
   "source": [
    "# view change\n",
    "# Test changing the slider value updates model\n",
    "\n",
    "setup()\n",
    "#ctx._sync_variables()\n",
    "#ctx._sync_variables()  # TODO - two calls does not seem right\n",
    "\n",
    "print(ctx.ns)\n",
    "print(ctx._variables.view.widgets)\n",
    "ctx._variables.view.widgets[\"test\"].value = 1\n",
    "\n",
    "ctx._sync_variables()\n",
    "ctx._variables.view.display()\n",
    "\n",
    "\n",
    "assert ctx.ns[\"test\"] == 1\n",
    "assert ctx._variables.view.widgets[\"test\"].value == 1"
   ]
  },
  {
   "cell_type": "code",
   "execution_count": 25,
   "metadata": {},
   "outputs": [
    {
     "name": "stdout",
     "output_type": "stream",
     "text": [
      "model_changed {'test': 10}\n",
      "view_changed {'test': 5}\n",
      "merged {'test': 5}\n"
     ]
    },
    {
     "data": {
      "application/vnd.jupyter.widget-view+json": {
       "model_id": "841a21e8ac6640a6bde377796593f707",
       "version_major": 2,
       "version_minor": 0
      },
      "text/plain": [
       "IntSlider(value=10, description='Test')"
      ]
     },
     "metadata": {},
     "output_type": "display_data"
    },
    {
     "name": "stdout",
     "output_type": "stream",
     "text": [
      "5\n",
      "{'test': IntSlider(value=10, description='Test')}\n"
     ]
    },
    {
     "ename": "AssertionError",
     "evalue": "",
     "output_type": "error",
     "traceback": [
      "\u001b[0;31m---------------------------------------------------------------------------\u001b[0m",
      "\u001b[0;31mAssertionError\u001b[0m                            Traceback (most recent call last)",
      "\u001b[0;32m<ipython-input-25-1752804a9f8a>\u001b[0m in \u001b[0;36m<module>\u001b[0;34m\u001b[0m\n\u001b[1;32m     14\u001b[0m \u001b[0mprint\u001b[0m\u001b[0;34m(\u001b[0m\u001b[0mctx\u001b[0m\u001b[0;34m.\u001b[0m\u001b[0m_variables\u001b[0m\u001b[0;34m.\u001b[0m\u001b[0mview\u001b[0m\u001b[0;34m.\u001b[0m\u001b[0mwidgets\u001b[0m\u001b[0;34m)\u001b[0m\u001b[0;34m\u001b[0m\u001b[0;34m\u001b[0m\u001b[0m\n\u001b[1;32m     15\u001b[0m \u001b[0;34m\u001b[0m\u001b[0m\n\u001b[0;32m---> 16\u001b[0;31m \u001b[0;32massert\u001b[0m \u001b[0mctx\u001b[0m\u001b[0;34m.\u001b[0m\u001b[0mns\u001b[0m\u001b[0;34m[\u001b[0m\u001b[0;34m\"test\"\u001b[0m\u001b[0;34m]\u001b[0m \u001b[0;34m==\u001b[0m \u001b[0;36m10\u001b[0m  \u001b[0;31m# TODO\u001b[0m\u001b[0;34m\u001b[0m\u001b[0;34m\u001b[0m\u001b[0m\n\u001b[0m\u001b[1;32m     17\u001b[0m \u001b[0;32massert\u001b[0m \u001b[0mctx\u001b[0m\u001b[0;34m.\u001b[0m\u001b[0m_variables\u001b[0m\u001b[0;34m.\u001b[0m\u001b[0mview\u001b[0m\u001b[0;34m.\u001b[0m\u001b[0mwidgets\u001b[0m\u001b[0;34m[\u001b[0m\u001b[0;34m\"test\"\u001b[0m\u001b[0;34m]\u001b[0m\u001b[0;34m.\u001b[0m\u001b[0mvalue\u001b[0m \u001b[0;34m==\u001b[0m \u001b[0;36m10\u001b[0m\u001b[0;34m\u001b[0m\u001b[0;34m\u001b[0m\u001b[0m\n",
      "\u001b[0;31mAssertionError\u001b[0m: "
     ]
    }
   ],
   "source": [
    "# Test updating model updates slider value\n",
    "setup()\n",
    "\n",
    "#ctx._variables.view.widgets[\"test\"].value = 5\n",
    "ctx.ns[\"test\"] = 10\n",
    "ctx._sync_variables()\n",
    "#ctx._sync_variables()\n",
    "\n",
    "# TODO - *should* view be changed now ?\n",
    "\n",
    "ctx._variables.view.display()\n",
    "\n",
    "print(ctx.ns[\"test\"])\n",
    "print(ctx._variables.view.widgets)\n",
    "\n",
    "assert ctx.ns[\"test\"] == 10  # TODO\n",
    "assert ctx._variables.view.widgets[\"test\"].value == 10"
   ]
  },
  {
   "cell_type": "code",
   "execution_count": null,
   "metadata": {},
   "outputs": [],
   "source": [
    "{\"a\": 1, \"b\": {\"type\": \"int\", \"min\": 0, \"max\": 10, \"value\": 100}}"
   ]
  },
  {
   "cell_type": "code",
   "execution_count": null,
   "metadata": {},
   "outputs": [],
   "source": [
    "# In Shoebot 1.x, you could pass values for variables - but only those that use add_variable in the code.\n",
    "# For Shoebot 2, we want to set anything in the namespace..\n",
    "\n",
    "# Option 1:   Pass type info first \n",
    "# Option 2:   Run bot frame and get type info...\n",
    "\n",
    "# Option 3:   Analyse code to find types :)"
   ]
  }
 ],
 "metadata": {
  "kernelspec": {
   "display_name": "Python 3",
   "language": "python",
   "name": "python3"
  },
  "language_info": {
   "codemirror_mode": {
    "name": "ipython",
    "version": 3
   },
   "file_extension": ".py",
   "mimetype": "text/x-python",
   "name": "python",
   "nbconvert_exporter": "python",
   "pygments_lexer": "ipython3",
   "version": "3.8.2"
  }
 },
 "nbformat": 4,
 "nbformat_minor": 4
}
