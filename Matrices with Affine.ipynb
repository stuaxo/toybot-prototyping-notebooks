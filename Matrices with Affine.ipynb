{
 "cells": [
  {
   "cell_type": "code",
   "execution_count": 6,
   "metadata": {},
   "outputs": [],
   "source": [
    "%reload_ext cairo_jupyter"
   ]
  },
  {
   "cell_type": "code",
   "execution_count": 24,
   "metadata": {},
   "outputs": [
    {
     "data": {
      "image/png": "[encoded data removed]",
      "text/plain": [
       "<cairo.ImageSurface at 0x7fa00483e370>"
      ]
     },
     "metadata": {},
     "output_type": "display_data"
    },
    {
     "data": {
      "image/png": "[encoded data removed]",
      "text/plain": [
       "<cairo.ImageSurface at 0x7fa00483e370>"
      ]
     },
     "metadata": {},
     "output_type": "display_data"
    }
   ],
   "source": [
    "import cairo\n",
    "import math\n",
    "\n",
    "from affine import Affine\n",
    "from collections import namedtuple\n",
    "\n",
    "surface = cairo.ImageSurface(cairo.FORMAT_ARGB32, 128, 64)\n",
    "context = cairo.Context(surface)\n",
    "\n",
    "\n",
    "def class_repr(self):\n",
    "    \"\"\"\n",
    "    Default class repr that outputs the content of a class.\n",
    "    \"\"\"\n",
    "    members = ', '.join({f'{k}={v}'\n",
    "                         for k, v in \n",
    "                         self.__dict__.items()})\n",
    "    return f'{self.__class__.__name__}({members})'\n",
    "\n",
    "\n",
    "class Path:\n",
    "    def __init__(self):\n",
    "        self.elements = []\n",
    "        self.closed = False\n",
    "        \n",
    "    def line_to(self, *args):\n",
    "        assert len(args) == 2\n",
    "        \n",
    "        self.elements.append((\"line_to\", args))\n",
    "        \n",
    "    def move_to(self, *args):\n",
    "        assert len(args) == 2\n",
    "        \n",
    "        self.elements.append((\"move_to\", args))\n",
    "        \n",
    "    def close(self):\n",
    "        self.closed = True\n",
    "        \n",
    "    def transform(self, m):\n",
    "        p = Path()\n",
    "        for t, pos in self.elements:\n",
    "            new_pos = m * pos\n",
    "            if t == \"line_to\":\n",
    "                p.line_to(*new_pos)\n",
    "            elif t == \"move_to\":\n",
    "                p.move_to(*new_pos)\n",
    "            else:\n",
    "                raise NotImplemented(t)\n",
    "            if self.closed:\n",
    "                p.close()\n",
    "        return p\n",
    "            \n",
    "    def draw(self, ctx):\n",
    "        for t, pos in self.elements:\n",
    "            if t == \"line_to\":\n",
    "                ctx.line_to(*pos)\n",
    "            elif t == \"move_to\":\n",
    "                ctx.move_to(*pos)\n",
    "            else:\n",
    "                raise NotImplemented(t)\n",
    "        if self.closed:\n",
    "            ctx.close_path()\n",
    "            \n",
    "            \n",
    "    __repr__ = class_repr\n",
    "\n",
    "\n",
    "def arrow(x, y, width, height, a, b):\n",
    "    p = Path()\n",
    "    p.move_to(x, y + b)\n",
    "    p.line_to(x, y + height - b)\n",
    "    p.line_to(x + a, y + height - b)\n",
    "    p.line_to(x + a, y + height)\n",
    "    p.line_to(x + width, y + height/2)\n",
    "    p.line_to(x + a, y)\n",
    "    p.line_to(x + a, y + b)\n",
    "    p.close()\n",
    "    return p\n",
    " \n",
    "def draw(path):\n",
    "    context.set_source_rgb(1, 1, 1)\n",
    "    #context.scale(10, 10)\n",
    "    context.paint()\n",
    "    context.set_source_rgba(1, 1, 0, 1)\n",
    "    path.draw(context)\n",
    "    context.fill_preserve()\n",
    "    context.set_source_rgba(0, 0, 0, 1)\n",
    "    context.stroke()\n",
    "    \n",
    "    display(surface)\n",
    "\n",
    "\n",
    "path = arrow(100, 10, 50, 50, 24, 14)\n",
    "\n",
    "\n",
    "path = arrow(-20, -20, 50, 50, 24, 14)\n",
    "draw(path)\n",
    "\n",
    "path2 = path.transform(Affine.rotation(-45) * Affine.translation(40, 40))\n",
    "\n",
    "#print(path2)\n",
    "\n",
    "draw(path2)\n",
    "\n",
    "#Matrix2D.Rotate(.1)"
   ]
  }
 ],
 "metadata": {
  "kernelspec": {
   "display_name": "Python 3",
   "language": "python",
   "name": "python3"
  },
  "language_info": {
   "codemirror_mode": {
    "name": "ipython",
    "version": 3
   },
   "file_extension": ".py",
   "mimetype": "text/x-python",
   "name": "python",
   "nbconvert_exporter": "python",
   "pygments_lexer": "ipython3",
   "version": "3.8.5"
  }
 },
 "nbformat": 4,
 "nbformat_minor": 4
}
